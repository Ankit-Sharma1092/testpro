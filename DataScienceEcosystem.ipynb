{
 "cells": [
  {
   "cell_type": "markdown",
   "id": "4aec79aa-3eca-490e-9007-080279022313",
   "metadata": {
    "tags": []
   },
   "source": [
    "## Data Science Tools and Ecosystem"
   ]
  },
  {
   "cell_type": "markdown",
   "id": "a6b63c26-4c52-446a-970b-6290f134b19d",
   "metadata": {},
   "source": [
    "#### Objectives :\n",
    "* create interactive notebook documents that can contain live code \n",
    "* equations \n",
    "* visualizations \n",
    "* media and other computational outputs\n"
   ]
  },
  {
   "cell_type": "markdown",
   "id": "d9373408-32fe-4a93-87d6-d04fa43fe05e",
   "metadata": {},
   "source": [
    "### In this notebook, Data Science Tools and Ecosystem are summarized\n"
   ]
  },
  {
   "cell_type": "markdown",
   "id": "2c8f7b16-1bce-4669-9351-f47f233e91ac",
   "metadata": {},
   "source": [
    "# Some of the popular languages that Data Scientists use are:\n",
    "1. Python\n",
    "2. R\n",
    "3. Julia"
   ]
  },
  {
   "cell_type": "markdown",
   "id": "9dd393b0-32bf-4e08-8897-1aed79043616",
   "metadata": {},
   "source": [
    "## Some of the commonly used libraries used by Data Scientists include:\n",
    "1. Pandas\n",
    "2. Numpy\n",
    "3. Scikit-learn"
   ]
  },
  {
   "cell_type": "markdown",
   "id": "46363fa7-1f84-4d5b-b157-86a5d2b7e586",
   "metadata": {},
   "source": [
    "## Data Science Tools"
   ]
  },
  {
   "cell_type": "markdown",
   "id": "fbfba727-fe65-487f-9cf5-5fa553e23b27",
   "metadata": {},
   "source": [
    "### RStudio "
   ]
  },
  {
   "cell_type": "markdown",
   "id": "62de81a4-999a-4184-8d3c-6115bc16bced",
   "metadata": {},
   "source": [
    "### Jupyter Notebook "
   ]
  },
  {
   "cell_type": "markdown",
   "id": "3bc7685c-4c92-44c4-9b8e-e4afca5bedcb",
   "metadata": {},
   "source": [
    "### Matplotlib"
   ]
  },
  {
   "cell_type": "markdown",
   "id": "b27ae93e-846a-4a4f-9898-572da84f42cf",
   "metadata": {},
   "source": [
    "### Below are a few examples of evaluating arithmetic expressions in Python"
   ]
  },
  {
   "cell_type": "markdown",
   "id": "3cd67c3d-dd4c-4512-9da5-d7b305c29199",
   "metadata": {},
   "source": [
    "#### This a simple arithmetic expression to mutiply then add integers"
   ]
  },
  {
   "cell_type": "code",
   "execution_count": 7,
   "id": "95c0f7d7-c567-4ff8-89cb-3935c5fce65d",
   "metadata": {},
   "outputs": [
    {
     "data": {
      "text/plain": [
       "17"
      ]
     },
     "execution_count": 7,
     "metadata": {},
     "output_type": "execute_result"
    }
   ],
   "source": [
    "(3*4)+5"
   ]
  },
  {
   "cell_type": "markdown",
   "id": "e1563884-62c8-4710-8e52-cd1f76667ff5",
   "metadata": {},
   "source": [
    "#### This will convert 200 minutes to hours by diving by 60"
   ]
  },
  {
   "cell_type": "code",
   "execution_count": 10,
   "id": "a8c18258-f8e6-435e-99ff-5de5117126e9",
   "metadata": {},
   "outputs": [
    {
     "data": {
      "text/plain": [
       "3.3333333333333335"
      ]
     },
     "execution_count": 10,
     "metadata": {},
     "output_type": "execute_result"
    }
   ],
   "source": [
    "200/60"
   ]
  },
  {
   "cell_type": "markdown",
   "id": "c328bc01-bfa5-44c4-8275-1b5ae4d362c6",
   "metadata": {},
   "source": [
    "## Author : ANKIT SHARMA"
   ]
  },
  {
   "cell_type": "code",
   "execution_count": null,
   "id": "0ef65f0c-d467-4e00-a0d1-b54bc9298fe3",
   "metadata": {},
   "outputs": [],
   "source": []
  }
 ],
 "metadata": {
  "kernelspec": {
   "display_name": "Python 3 (ipykernel)",
   "language": "python",
   "name": "python3"
  },
  "language_info": {
   "codemirror_mode": {
    "name": "ipython",
    "version": 3
   },
   "file_extension": ".py",
   "mimetype": "text/x-python",
   "name": "python",
   "nbconvert_exporter": "python",
   "pygments_lexer": "ipython3",
   "version": "3.10.8"
  }
 },
 "nbformat": 4,
 "nbformat_minor": 5
}
